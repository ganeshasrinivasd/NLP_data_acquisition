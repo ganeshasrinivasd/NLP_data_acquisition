{
  "nbformat": 4,
  "nbformat_minor": 0,
  "metadata": {
    "colab": {
      "name": "web scraping.ipynb",
      "provenance": [],
      "collapsed_sections": []
    },
    "kernelspec": {
      "name": "python3",
      "display_name": "Python 3"
    },
    "language_info": {
      "name": "python"
    }
  },
  "cells": [
    {
      "cell_type": "code",
      "execution_count": null,
      "metadata": {
        "id": "VpwdsKK5J2U2"
      },
      "outputs": [],
      "source": [
        "from bs4 import BeautifulSoup\n",
        "import requests"
      ]
    },
    {
      "cell_type": "code",
      "source": [
        "url='https://www.who.int/emergencies/diseases/novel-coronavirus-2019/question-and-answers-hub'\n",
        "req=requests.get(url)"
      ],
      "metadata": {
        "id": "swf8vV0ZKAEl"
      },
      "execution_count": null,
      "outputs": []
    },
    {
      "cell_type": "code",
      "source": [
        "soup=BeautifulSoup(req.content,\"html.parser\")"
      ],
      "metadata": {
        "id": "S7WS-U6yKEEV"
      },
      "execution_count": null,
      "outputs": []
    },
    {
      "cell_type": "code",
      "source": [
        "import re"
      ],
      "metadata": {
        "id": "kuTowqFqMhda"
      },
      "execution_count": null,
      "outputs": []
    },
    {
      "cell_type": "code",
      "source": [
        "questions = soup.find_all(\"a\",class_=re.compile(\"sf-list-vertical__item\"))"
      ],
      "metadata": {
        "id": "9WXNMi-FKi_8"
      },
      "execution_count": null,
      "outputs": []
    },
    {
      "cell_type": "code",
      "source": [
        "a = []\n",
        "for i in questions:\n",
        "  a.append(i['href'])"
      ],
      "metadata": {
        "id": "YDrxNkp4OkKh"
      },
      "execution_count": null,
      "outputs": []
    },
    {
      "cell_type": "code",
      "source": [
        "print(len(a))"
      ],
      "metadata": {
        "colab": {
          "base_uri": "https://localhost:8080/"
        },
        "id": "TrlZU4pgOp2l",
        "outputId": "593123ae-d1af-4cc8-fe98-243db55c755a"
      },
      "execution_count": null,
      "outputs": [
        {
          "output_type": "stream",
          "name": "stdout",
          "text": [
            "56\n"
          ]
        }
      ]
    },
    {
      "cell_type": "code",
      "source": [
        "q = []\n",
        "A = []"
      ],
      "metadata": {
        "id": "qwfppq-fTl1d"
      },
      "execution_count": null,
      "outputs": []
    },
    {
      "cell_type": "code",
      "source": [
        "for i in range(len(a)):\n",
        "  url = \"https://who.int\"+ a[i]\n",
        "  res = requests.get(url)\n",
        "  soup=BeautifulSoup(res.content,\"html.parser\")\n",
        "  questions = soup.find_all(\"span\",itemprop=\"name\")\n",
        "  answers = soup.find_all(\"p\",class_=re.compile(\"sf-accordion__summary\"))\n",
        "\n",
        "  for i in questions:\n",
        "    q.append(i.text)\n",
        "\n",
        "  for i in answers:\n",
        "    A.append(i.text)"
      ],
      "metadata": {
        "id": "WLxj5SoKOtso"
      },
      "execution_count": null,
      "outputs": []
    },
    {
      "cell_type": "code",
      "source": [
        "import pandas as pd\n",
        "\n",
        "data = []\n",
        "for i in range(len(A)):\n",
        "  data.append((q[i], A[i]))\n",
        "\n",
        "catDf = pd.DataFrame(data, columns=[\"Question\",\"Answers\"])\n",
        "catDf"
      ],
      "metadata": {
        "colab": {
          "base_uri": "https://localhost:8080/",
          "height": 12507
        },
        "id": "gFGbrh40Sh1k",
        "outputId": "7d7d8226-e053-4ef3-9980-d4be982b5ad1"
      },
      "execution_count": null,
      "outputs": [
        {
          "output_type": "execute_result",
          "data": {
            "text/plain": [
              "                                              Question  \\\n",
              "0                                \\nWhat is COVID-19?\\n   \n",
              "1               \\nWhat are the symptoms of COVID-19?\\n   \n",
              "2         \\nWhat happens to people who get COVID-19?\\n   \n",
              "3    \\nWho is most at risk of severe illness from C...   \n",
              "4         \\nAre there long-term effects of COVID-19?\\n   \n",
              "..                                                 ...   \n",
              "512  \\nI am developing a SARS-CoV-2 assay and prepa...   \n",
              "513  \\nI am submitting a RT-PCR kit to detect SARS-...   \n",
              "514  \\nDo I need to provide detailed information re...   \n",
              "515  \\nI cannot get access to the full list of orga...   \n",
              "516  \\nIn our clinical evidence studies, we have no...   \n",
              "\n",
              "                                               Answers  \n",
              "0    \\nCOVID-19 is the disease caused by a new coro...  \n",
              "1    \\nThe most common symptoms of COVID-19 areFeve...  \n",
              "2    \\nAmong those who develop symptoms, most (abou...  \n",
              "3    \\nPeople aged 60 years and over, and those wit...  \n",
              "4    \\nSome people who have had COVID-19, whether t...  \n",
              "..                                                 ...  \n",
              "512  \\nWe have published different instructions dep...  \n",
              "513  \\nYes, the extraction step must be considered ...  \n",
              "514  \\nMore and more evidence is emerging as to how...  \n",
              "515  \\nPQT-IVD team are not undertaking any laborat...  \n",
              "516  \\nNo, we will not necessarily request you to r...  \n",
              "\n",
              "[517 rows x 2 columns]"
            ],
            "text/html": [
              "\n",
              "  <div id=\"df-2ba067c0-37a2-425e-8ca2-ff4f8dc8fc34\">\n",
              "    <div class=\"colab-df-container\">\n",
              "      <div>\n",
              "<style scoped>\n",
              "    .dataframe tbody tr th:only-of-type {\n",
              "        vertical-align: middle;\n",
              "    }\n",
              "\n",
              "    .dataframe tbody tr th {\n",
              "        vertical-align: top;\n",
              "    }\n",
              "\n",
              "    .dataframe thead th {\n",
              "        text-align: right;\n",
              "    }\n",
              "</style>\n",
              "<table border=\"1\" class=\"dataframe\">\n",
              "  <thead>\n",
              "    <tr style=\"text-align: right;\">\n",
              "      <th></th>\n",
              "      <th>Question</th>\n",
              "      <th>Answers</th>\n",
              "    </tr>\n",
              "  </thead>\n",
              "  <tbody>\n",
              "    <tr>\n",
              "      <th>0</th>\n",
              "      <td>\\nWhat is COVID-19?\\n</td>\n",
              "      <td>\\nCOVID-19 is the disease caused by a new coro...</td>\n",
              "    </tr>\n",
              "    <tr>\n",
              "      <th>1</th>\n",
              "      <td>\\nWhat are the symptoms of COVID-19?\\n</td>\n",
              "      <td>\\nThe most common symptoms of COVID-19 areFeve...</td>\n",
              "    </tr>\n",
              "    <tr>\n",
              "      <th>2</th>\n",
              "      <td>\\nWhat happens to people who get COVID-19?\\n</td>\n",
              "      <td>\\nAmong those who develop symptoms, most (abou...</td>\n",
              "    </tr>\n",
              "    <tr>\n",
              "      <th>3</th>\n",
              "      <td>\\nWho is most at risk of severe illness from C...</td>\n",
              "      <td>\\nPeople aged 60 years and over, and those wit...</td>\n",
              "    </tr>\n",
              "    <tr>\n",
              "      <th>4</th>\n",
              "      <td>\\nAre there long-term effects of COVID-19?\\n</td>\n",
              "      <td>\\nSome people who have had COVID-19, whether t...</td>\n",
              "    </tr>\n",
              "    <tr>\n",
              "      <th>...</th>\n",
              "      <td>...</td>\n",
              "      <td>...</td>\n",
              "    </tr>\n",
              "    <tr>\n",
              "      <th>512</th>\n",
              "      <td>\\nI am developing a SARS-CoV-2 assay and prepa...</td>\n",
              "      <td>\\nWe have published different instructions dep...</td>\n",
              "    </tr>\n",
              "    <tr>\n",
              "      <th>513</th>\n",
              "      <td>\\nI am submitting a RT-PCR kit to detect SARS-...</td>\n",
              "      <td>\\nYes, the extraction step must be considered ...</td>\n",
              "    </tr>\n",
              "    <tr>\n",
              "      <th>514</th>\n",
              "      <td>\\nDo I need to provide detailed information re...</td>\n",
              "      <td>\\nMore and more evidence is emerging as to how...</td>\n",
              "    </tr>\n",
              "    <tr>\n",
              "      <th>515</th>\n",
              "      <td>\\nI cannot get access to the full list of orga...</td>\n",
              "      <td>\\nPQT-IVD team are not undertaking any laborat...</td>\n",
              "    </tr>\n",
              "    <tr>\n",
              "      <th>516</th>\n",
              "      <td>\\nIn our clinical evidence studies, we have no...</td>\n",
              "      <td>\\nNo, we will not necessarily request you to r...</td>\n",
              "    </tr>\n",
              "  </tbody>\n",
              "</table>\n",
              "<p>517 rows × 2 columns</p>\n",
              "</div>\n",
              "      <button class=\"colab-df-convert\" onclick=\"convertToInteractive('df-2ba067c0-37a2-425e-8ca2-ff4f8dc8fc34')\"\n",
              "              title=\"Convert this dataframe to an interactive table.\"\n",
              "              style=\"display:none;\">\n",
              "        \n",
              "  <svg xmlns=\"http://www.w3.org/2000/svg\" height=\"24px\"viewBox=\"0 0 24 24\"\n",
              "       width=\"24px\">\n",
              "    <path d=\"M0 0h24v24H0V0z\" fill=\"none\"/>\n",
              "    <path d=\"M18.56 5.44l.94 2.06.94-2.06 2.06-.94-2.06-.94-.94-2.06-.94 2.06-2.06.94zm-11 1L8.5 8.5l.94-2.06 2.06-.94-2.06-.94L8.5 2.5l-.94 2.06-2.06.94zm10 10l.94 2.06.94-2.06 2.06-.94-2.06-.94-.94-2.06-.94 2.06-2.06.94z\"/><path d=\"M17.41 7.96l-1.37-1.37c-.4-.4-.92-.59-1.43-.59-.52 0-1.04.2-1.43.59L10.3 9.45l-7.72 7.72c-.78.78-.78 2.05 0 2.83L4 21.41c.39.39.9.59 1.41.59.51 0 1.02-.2 1.41-.59l7.78-7.78 2.81-2.81c.8-.78.8-2.07 0-2.86zM5.41 20L4 18.59l7.72-7.72 1.47 1.35L5.41 20z\"/>\n",
              "  </svg>\n",
              "      </button>\n",
              "      \n",
              "  <style>\n",
              "    .colab-df-container {\n",
              "      display:flex;\n",
              "      flex-wrap:wrap;\n",
              "      gap: 12px;\n",
              "    }\n",
              "\n",
              "    .colab-df-convert {\n",
              "      background-color: #E8F0FE;\n",
              "      border: none;\n",
              "      border-radius: 50%;\n",
              "      cursor: pointer;\n",
              "      display: none;\n",
              "      fill: #1967D2;\n",
              "      height: 32px;\n",
              "      padding: 0 0 0 0;\n",
              "      width: 32px;\n",
              "    }\n",
              "\n",
              "    .colab-df-convert:hover {\n",
              "      background-color: #E2EBFA;\n",
              "      box-shadow: 0px 1px 2px rgba(60, 64, 67, 0.3), 0px 1px 3px 1px rgba(60, 64, 67, 0.15);\n",
              "      fill: #174EA6;\n",
              "    }\n",
              "\n",
              "    [theme=dark] .colab-df-convert {\n",
              "      background-color: #3B4455;\n",
              "      fill: #D2E3FC;\n",
              "    }\n",
              "\n",
              "    [theme=dark] .colab-df-convert:hover {\n",
              "      background-color: #434B5C;\n",
              "      box-shadow: 0px 1px 3px 1px rgba(0, 0, 0, 0.15);\n",
              "      filter: drop-shadow(0px 1px 2px rgba(0, 0, 0, 0.3));\n",
              "      fill: #FFFFFF;\n",
              "    }\n",
              "  </style>\n",
              "\n",
              "      <script>\n",
              "        const buttonEl =\n",
              "          document.querySelector('#df-2ba067c0-37a2-425e-8ca2-ff4f8dc8fc34 button.colab-df-convert');\n",
              "        buttonEl.style.display =\n",
              "          google.colab.kernel.accessAllowed ? 'block' : 'none';\n",
              "\n",
              "        async function convertToInteractive(key) {\n",
              "          const element = document.querySelector('#df-2ba067c0-37a2-425e-8ca2-ff4f8dc8fc34');\n",
              "          const dataTable =\n",
              "            await google.colab.kernel.invokeFunction('convertToInteractive',\n",
              "                                                     [key], {});\n",
              "          if (!dataTable) return;\n",
              "\n",
              "          const docLinkHtml = 'Like what you see? Visit the ' +\n",
              "            '<a target=\"_blank\" href=https://colab.research.google.com/notebooks/data_table.ipynb>data table notebook</a>'\n",
              "            + ' to learn more about interactive tables.';\n",
              "          element.innerHTML = '';\n",
              "          dataTable['output_type'] = 'display_data';\n",
              "          await google.colab.output.renderOutput(dataTable, element);\n",
              "          const docLink = document.createElement('div');\n",
              "          docLink.innerHTML = docLinkHtml;\n",
              "          element.appendChild(docLink);\n",
              "        }\n",
              "      </script>\n",
              "    </div>\n",
              "  </div>\n",
              "  "
            ]
          },
          "metadata": {},
          "execution_count": 147
        }
      ]
    },
    {
      "cell_type": "code",
      "source": [
        "catDf.to_excel(\"who_covd.xlsx\")"
      ],
      "metadata": {
        "id": "TZff5o-WVTnc"
      },
      "execution_count": null,
      "outputs": []
    },
    {
      "cell_type": "code",
      "source": [
        "catDf.to_csv(\"who_covd.csv\")"
      ],
      "metadata": {
        "id": "KrI5iA-_WTxA"
      },
      "execution_count": null,
      "outputs": []
    },
    {
      "cell_type": "code",
      "source": [
        ""
      ],
      "metadata": {
        "id": "gQBNixkNWVAr"
      },
      "execution_count": null,
      "outputs": []
    }
  ]
}